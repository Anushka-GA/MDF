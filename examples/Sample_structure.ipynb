{
 "cells": [
  {
   "cell_type": "code",
   "execution_count": 72,
   "id": "00ebcd5b",
   "metadata": {},
   "outputs": [],
   "source": [
    "from modeci_mdf.mdf import *\n",
    "\n",
    "# Create a model containing one graph\n",
    "mod = Model(id=\"AG\")\n",
    "mod_graph = Graph(id=\"ag_example\")\n",
    "\n",
    "#append the Graph object to the Model\n",
    "mod.graphs.append(mod_graph)"
   ]
  },
  {
   "cell_type": "code",
   "execution_count": 73,
   "id": "d3daaf2a",
   "metadata": {},
   "outputs": [
    {
     "name": "stdout",
     "output_type": "stream",
     "text": [
      "ag_example:\n",
      "    nodes:\n",
      "        X:\n",
      "            input_ports:\n",
      "                input: {}\n",
      "            parameters:\n",
      "                pi:\n",
      "                    value: 3.14\n",
      "                pii:\n",
      "                    value: pi\n",
      "            output_ports:\n",
      "                output:\n",
      "                    value: pii\n",
      "\n"
     ]
    }
   ],
   "source": [
    "a_node = Node(id=\"X\")\n",
    "a_node.input_ports.append(InputPort(id=\"input\"))\n",
    "\n",
    "#https://mdf.readthedocs.io/en/latest/api/Specification.html#parameter\n",
    "#Add a stateless parameter - this is a parameter which will evaluate to the same value every execution of the node (for the same external inputs)\n",
    "a_node.parameters.append(Parameter(id=\"pi\", value=3.14))\n",
    "\n",
    "#Add a stateful parameter - this is a parameter whose value is influenced by a previous value of a parameter, possibly itself\n",
    "p1 = Parameter(\n",
    "    id=\"pii\",\n",
    "    value=\"pi\",\n",
    ")\n",
    "a_node.parameters.append(p1)\n",
    "\n",
    "\n",
    "# Add an output port\n",
    "a_node.output_ports.append(OutputPort(id=\"output\", value=\"pii\"))\n",
    "\n",
    "# Add node to the graph\n",
    "mod_graph.nodes.append(a_node)\n",
    "\n",
    "# Print current structure as YAML\n",
    "print(mod_graph.to_yaml())\n"
   ]
  },
  {
   "cell_type": "code",
   "execution_count": 74,
   "id": "602cb36b",
   "metadata": {},
   "outputs": [
    {
     "name": "stdout",
     "output_type": "stream",
     "text": [
      "ag_example:\n",
      "    nodes:\n",
      "        X:\n",
      "            input_ports:\n",
      "                input: {}\n",
      "            parameters:\n",
      "                pi:\n",
      "                    value: 3.14\n",
      "                pii:\n",
      "                    value: pi\n",
      "            output_ports:\n",
      "                output:\n",
      "                    value: pii\n",
      "        Y:\n",
      "            input_ports:\n",
      "                input: {}\n",
      "            parameters:\n",
      "                pi:\n",
      "                    value: 3.14\n",
      "                circle_perimeter:\n",
      "                    value: 2*pi*input\n",
      "            output_ports:\n",
      "                output:\n",
      "                    value: circle_perimeter\n",
      "\n"
     ]
    }
   ],
   "source": [
    "b_node = Node(id=\"Y\")\n",
    "b_node.input_ports.append(InputPort(id=\"input\"))\n",
    "\n",
    "#https://mdf.readthedocs.io/en/latest/api/Specification.html#parameter\n",
    "#Add a stateless parameter - this is a parameter which will evaluate to the same value every execution of the node (for the same external inputs)\n",
    "b_node.parameters.append(Parameter(id=\"pi\", value=3.14))\n",
    "\n",
    "#Add a stateful parameter - this is a parameter whose value is influenced by a previous value of a parameter, possibly itself\n",
    "p1 = Parameter(\n",
    "    id=\"circle_perimeter\",\n",
    "    value=\"2*pi*input\",\n",
    ")\n",
    "b_node.parameters.append(p1)\n",
    "\n",
    "\n",
    "# Add an output port\n",
    "b_node.output_ports.append(OutputPort(id=\"output\", value=\"circle_perimeter\"))\n",
    "\n",
    "# Add node to the graph\n",
    "mod_graph.nodes.append(b_node)\n",
    "\n",
    "# Print current structure as YAML\n",
    "print(mod_graph.to_yaml())\n",
    "\n"
   ]
  },
  {
   "cell_type": "code",
   "execution_count": 75,
   "id": "e8b87022",
   "metadata": {},
   "outputs": [
    {
     "name": "stdout",
     "output_type": "stream",
     "text": [
      "ag_example:\n",
      "    nodes:\n",
      "        X:\n",
      "            input_ports:\n",
      "                input: {}\n",
      "            parameters:\n",
      "                pi:\n",
      "                    value: 3.14\n",
      "                pii:\n",
      "                    value: pi\n",
      "            output_ports:\n",
      "                output:\n",
      "                    value: pii\n",
      "        Y:\n",
      "            input_ports:\n",
      "                input: {}\n",
      "            parameters:\n",
      "                pi:\n",
      "                    value: 3.14\n",
      "                circle_perimeter:\n",
      "                    value: 2*pi*input\n",
      "            output_ports:\n",
      "                output:\n",
      "                    value: circle_perimeter\n",
      "        Z:\n",
      "            input_ports:\n",
      "                input: {}\n",
      "            parameters:\n",
      "                pi:\n",
      "                    value: 3.14\n",
      "                sphere_volume:\n",
      "                    value: 4/3 *pi* input*input*input\n",
      "            output_ports:\n",
      "                output:\n",
      "                    value: sphere_volume\n",
      "\n"
     ]
    }
   ],
   "source": [
    "c_node = Node(id=\"Z\")\n",
    "c_node.input_ports.append(InputPort(id=\"input\"))\n",
    "\n",
    "\n",
    "\n",
    "#https://mdf.readthedocs.io/en/latest/api/Specification.html#parameter\n",
    "#Add a stateless parameter - this is a parameter which will evaluate to the same value every execution of the node (for the same external inputs)\n",
    "c_node.parameters.append(Parameter(id=\"pi\", value=3.14))\n",
    "\n",
    "#Add a stateful parameter - this is a parameter whose value is influenced by a previous value of a parameter, possibly itself\n",
    "p1 = Parameter(\n",
    "    id=\"sphere_volume\",\n",
    "    value=\"4/3 *pi* input*input*input\",\n",
    ")\n",
    "c_node.parameters.append(p1)\n",
    "\n",
    "\n",
    "# Add an output port\n",
    "c_node.output_ports.append(OutputPort(id=\"output\", value=\"sphere_volume\"))\n",
    "\n",
    "# Add node to the graph\n",
    "mod_graph.nodes.append(c_node)\n",
    "\n",
    "# Print current structure as YAML\n",
    "print(mod_graph.to_yaml())\n",
    "\n",
    "\n"
   ]
  },
  {
   "cell_type": "code",
   "execution_count": 76,
   "id": "4fede917",
   "metadata": {},
   "outputs": [
    {
     "name": "stdout",
     "output_type": "stream",
     "text": [
      "ag_example:\n",
      "    nodes:\n",
      "        X:\n",
      "            input_ports:\n",
      "                input: {}\n",
      "            parameters:\n",
      "                pi:\n",
      "                    value: 3.14\n",
      "                pii:\n",
      "                    value: pi\n",
      "            output_ports:\n",
      "                output:\n",
      "                    value: pii\n",
      "        Y:\n",
      "            input_ports:\n",
      "                input: {}\n",
      "            parameters:\n",
      "                pi:\n",
      "                    value: 3.14\n",
      "                circle_perimeter:\n",
      "                    value: 2*pi*input\n",
      "            output_ports:\n",
      "                output:\n",
      "                    value: circle_perimeter\n",
      "        Z:\n",
      "            input_ports:\n",
      "                input: {}\n",
      "            parameters:\n",
      "                pi:\n",
      "                    value: 3.14\n",
      "                sphere_volume:\n",
      "                    value: 4/3 *pi* input*input*input\n",
      "            output_ports:\n",
      "                output:\n",
      "                    value: sphere_volume\n",
      "    edges:\n",
      "        edge_X_Y:\n",
      "            sender: X\n",
      "            receiver: Y\n",
      "            sender_port: output\n",
      "            receiver_port: input\n",
      "\n"
     ]
    }
   ],
   "source": [
    "# This helper method just adds an edge connecting the first output port of \n",
    "# the pre node to the first input port of the post node\n",
    "from modeci_mdf.utils import simple_connect\n",
    "\n",
    "e1 = simple_connect(a_node, b_node, mod_graph)\n",
    "\n",
    "# Print the current structure\n",
    "print(mod_graph.to_yaml())\n"
   ]
  },
  {
   "cell_type": "code",
   "execution_count": 77,
   "id": "93682913",
   "metadata": {},
   "outputs": [
    {
     "name": "stdout",
     "output_type": "stream",
     "text": [
      "ag_example:\n",
      "    nodes:\n",
      "        X:\n",
      "            input_ports:\n",
      "                input: {}\n",
      "            parameters:\n",
      "                pi:\n",
      "                    value: 3.14\n",
      "                pii:\n",
      "                    value: pi\n",
      "            output_ports:\n",
      "                output:\n",
      "                    value: pii\n",
      "        Y:\n",
      "            input_ports:\n",
      "                input: {}\n",
      "            parameters:\n",
      "                pi:\n",
      "                    value: 3.14\n",
      "                circle_perimeter:\n",
      "                    value: 2*pi*input\n",
      "            output_ports:\n",
      "                output:\n",
      "                    value: circle_perimeter\n",
      "        Z:\n",
      "            input_ports:\n",
      "                input: {}\n",
      "            parameters:\n",
      "                pi:\n",
      "                    value: 3.14\n",
      "                sphere_volume:\n",
      "                    value: 4/3 *pi* input*input*input\n",
      "            output_ports:\n",
      "                output:\n",
      "                    value: sphere_volume\n",
      "    edges:\n",
      "        edge_X_Y:\n",
      "            sender: X\n",
      "            receiver: Y\n",
      "            sender_port: output\n",
      "            receiver_port: input\n",
      "        edge_X_Z:\n",
      "            sender: X\n",
      "            receiver: Z\n",
      "            sender_port: output\n",
      "            receiver_port: input\n",
      "\n"
     ]
    }
   ],
   "source": [
    "# This helper method just adds an edge connecting the first output port of \n",
    "# the pre node to the first input port of the post node\n",
    "from modeci_mdf.utils import simple_connect\n",
    "\n",
    "e1 = simple_connect(a_node, c_node, mod_graph)\n",
    "\n",
    "# Print the current structure\n",
    "print(mod_graph.to_yaml())\n"
   ]
  },
  {
   "cell_type": "code",
   "execution_count": 78,
   "id": "d24bb7d3",
   "metadata": {},
   "outputs": [
    {
     "data": {
      "text/plain": [
       "'AG.yaml'"
      ]
     },
     "execution_count": 78,
     "metadata": {},
     "output_type": "execute_result"
    }
   ],
   "source": [
    "mod.to_json_file(\"AG.json\")\n",
    "mod.to_yaml_file(\"AG.yaml\")"
   ]
  },
  {
   "cell_type": "code",
   "execution_count": 79,
   "id": "02b7840b",
   "metadata": {},
   "outputs": [
    {
     "name": "stdout",
     "output_type": "stream",
     "text": [
      "Converting MDF graph: ag_example to graphviz (level: 3, format: png)\n",
      "    Node: X\n",
      "    Node: Y\n",
      "    Node: Z\n",
      "    Edge: edge_X_Y connects X to Y\n",
      "    Edge: edge_X_Z connects X to Z\n",
      "Written graph image to: AG.png\n"
     ]
    },
    {
     "data": {
      "image/png": "[encoded data removed]",
      "text/plain": [
       "<IPython.core.display.Image object>"
      ]
     },
     "execution_count": 79,
     "metadata": {},
     "output_type": "execute_result"
    }
   ],
   "source": [
    "mod.to_graph_image(\n",
    "        engine=\"dot\",\n",
    "        output_format=\"png\",\n",
    "        view_on_render=False,\n",
    "        level=3,\n",
    "        filename_root=\"AG\",\n",
    "        is_horizontal=True\n",
    "    )\n",
    "\n",
    "from IPython.display import Image\n",
    "Image(filename=\"AG.png\")"
   ]
  },
  {
   "cell_type": "code",
   "execution_count": 80,
   "id": "2874376d",
   "metadata": {},
   "outputs": [
    {
     "name": "stdout",
     "output_type": "stream",
     "text": [
      "\n",
      "Init graph: ag_example\n",
      "Evaluating graph: ag_example, root nodes: ['X'], with array format numpy\n",
      "Output of X: 3.14\n",
      "Output of Y: 19.7192\n",
      "Output of Z: 129.61561621333334\n"
     ]
    }
   ],
   "source": [
    "from modeci_mdf.execution_engine import EvaluableGraph\n",
    "\n",
    "eg = EvaluableGraph(mod_graph, verbose=False)\n",
    "eg.evaluate()\n",
    "\n",
    "print('Output of X: %s'%eg.enodes[\"X\"].evaluable_outputs[\"output\"].curr_value)\n",
    "print('Output of Y: %s'%eg.enodes[\"Y\"].evaluable_outputs[\"output\"].curr_value)\n",
    "print('Output of Z: %s'%eg.enodes[\"Z\"].evaluable_outputs[\"output\"].curr_value)"
   ]
  },
  {
   "cell_type": "code",
   "execution_count": 81,
   "id": "02424066",
   "metadata": {},
   "outputs": [
    {
     "name": "stdout",
     "output_type": "stream",
     "text": [
      "Evaluating graph: ag_example, root nodes: ['X'], with array format numpy\n",
      "Output of X:\n",
      "[[1 2]\n",
      " [3 4]]\n",
      "Output of Y:\n",
      "[[ 6.28 12.56]\n",
      " [18.84 25.12]]\n",
      "Output of Z:\n",
      "[[  4.18666667  33.49333333]\n",
      " [113.04       267.94666667]]\n"
     ]
    }
   ],
   "source": [
    "import numpy as np \n",
    "#Convert the value of the parameter to a numpy array\n",
    "a_node.get_parameter('pi').value = np.array([[1,2],[3,4]])\n",
    "\n",
    "eg.evaluate()\n",
    "\n",
    "print('Output of X:\\n%s'%eg.enodes[\"X\"].evaluable_outputs[\"output\"].curr_value)\n",
    "print('Output of Y:\\n%s'%eg.enodes[\"Y\"].evaluable_outputs[\"output\"].curr_value)\n",
    "print('Output of Z:\\n%s'%eg.enodes[\"Z\"].evaluable_outputs[\"output\"].curr_value)"
   ]
  },
  {
   "cell_type": "code",
   "execution_count": 82,
   "id": "a4390d42",
   "metadata": {},
   "outputs": [],
   "source": [
    "#This condition means that A is always executed\n",
    "cond_a = Condition(type=\"Always\")\n",
    "\n",
    "#This condition means that B will execute when A has run 3 times\n",
    "cond_b = Condition(type=\"EveryNCalls\", dependencies=a_node.id, n=4)  \n",
    "\n",
    "\n",
    "cond_c = Condition(type=\"EveryNCalls\", dependencies=b_node.id, n=2)  \n"
   ]
  },
  {
   "cell_type": "code",
   "execution_count": 83,
   "id": "52a787d0",
   "metadata": {},
   "outputs": [
    {
     "name": "stdout",
     "output_type": "stream",
     "text": [
      "ag_example:\n",
      "    nodes:\n",
      "        X:\n",
      "            input_ports:\n",
      "                input: {}\n",
      "            parameters:\n",
      "                pi:\n",
      "                    value:\n",
      "                    -   - 1\n",
      "                        - 2\n",
      "                    -   - 3\n",
      "                        - 4\n",
      "                pii:\n",
      "                    value: pi\n",
      "            output_ports:\n",
      "                output:\n",
      "                    value: pii\n",
      "        Y:\n",
      "            input_ports:\n",
      "                input: {}\n",
      "            parameters:\n",
      "                pi:\n",
      "                    value: 3.14\n",
      "                circle_perimeter:\n",
      "                    value: 2*pi*input\n",
      "            output_ports:\n",
      "                output:\n",
      "                    value: circle_perimeter\n",
      "        Z:\n",
      "            input_ports:\n",
      "                input: {}\n",
      "            parameters:\n",
      "                pi:\n",
      "                    value: 3.14\n",
      "                sphere_volume:\n",
      "                    value: 4/3 *pi* input*input*input\n",
      "            output_ports:\n",
      "                output:\n",
      "                    value: sphere_volume\n",
      "    edges:\n",
      "        edge_X_Y:\n",
      "            sender: X\n",
      "            receiver: Y\n",
      "            sender_port: output\n",
      "            receiver_port: input\n",
      "        edge_X_Z:\n",
      "            sender: X\n",
      "            receiver: Z\n",
      "            sender_port: output\n",
      "            receiver_port: input\n",
      "    conditions:\n",
      "        node_specific:\n",
      "            X:\n",
      "                type: Always\n",
      "                kwargs: {}\n",
      "            Y:\n",
      "                type: EveryNCalls\n",
      "                kwargs:\n",
      "                    dependencies: X\n",
      "                    n: 4\n",
      "            Z:\n",
      "                type: EveryNCalls\n",
      "                kwargs:\n",
      "                    dependencies: Y\n",
      "                    n: 2\n",
      "\n"
     ]
    }
   ],
   "source": [
    "#add the conditions to the Graph\n",
    "mod_graph.conditions = ConditionSet(\n",
    "    node_specific={a_node.id: cond_a, b_node.id: cond_b, c_node.id :cond_c},\n",
    ")\n",
    "\n",
    "# Print the current structure\n",
    "print(mod_graph.to_yaml())"
   ]
  },
  {
   "cell_type": "code",
   "execution_count": 84,
   "id": "e0397d02",
   "metadata": {},
   "outputs": [
    {
     "name": "stdout",
     "output_type": "stream",
     "text": [
      "Converting MDF graph: ag_example to graphviz (level: 2, format: png)\n",
      "    Node: X\n",
      "    Node: Y\n",
      "    Node: Z\n",
      "    Edge: edge_X_Y connects X to Y\n",
      "    Edge: edge_X_Z connects X to Z\n",
      "Written graph image to: conditions.png\n"
     ]
    },
    {
     "data": {
      "image/png": "[encoded data removed]",
      "text/plain": [
       "<IPython.core.display.Image object>"
      ]
     },
     "execution_count": 84,
     "metadata": {},
     "output_type": "execute_result"
    }
   ],
   "source": [
    "mod.to_graph_image(\n",
    "        engine=\"dot\",\n",
    "        output_format=\"png\",\n",
    "        view_on_render=False,\n",
    "        level=2,\n",
    "        filename_root=\"conditions\"\n",
    "    )\n",
    "\n",
    "from IPython.display import Image\n",
    "Image(filename=\"conditions.png\")"
   ]
  },
  {
   "cell_type": "code",
   "execution_count": 85,
   "id": "70b8c765",
   "metadata": {},
   "outputs": [
    {
     "name": "stdout",
     "output_type": "stream",
     "text": [
      "\n",
      "Init graph: ag_example\n",
      "Evaluating graph: ag_example, root nodes: ['X'], with array format numpy\n",
      "Output of X: [[1 2]\n",
      " [3 4]]\n",
      "Output of Y: [[ 6.28 12.56]\n",
      " [18.84 25.12]]\n",
      "Output of Z: [[  4.18666667  33.49333333]\n",
      " [113.04       267.94666667]]\n"
     ]
    }
   ],
   "source": [
    "from modeci_mdf.execution_engine import EvaluableGraph\n",
    "\n",
    "eg = EvaluableGraph(mod_graph, verbose=False)\n",
    "#Calling the evaluate method will print out the order of the execution of Nodes per the set conditions\n",
    "#Expected to be ('A','A','A','B')\n",
    "eg.evaluate()\n",
    "\n",
    "#The Output of A expected to be 3 as it executes 3 times\n",
    "print('Output of X: %s'%eg.enodes[\"X\"].evaluable_outputs[\"output\"].curr_value) \n",
    "\n",
    "#The Output of B expected to be 1 as it executes only once\n",
    "print('Output of Y: %s'%eg.enodes[\"Y\"].evaluable_outputs[\"output\"].curr_value) \n",
    "\n",
    "print('Output of Z: %s'%eg.enodes[\"Z\"].evaluable_outputs[\"output\"].curr_value) \n"
   ]
  },
  {
   "cell_type": "code",
   "execution_count": null,
   "id": "b2a09268",
   "metadata": {},
   "outputs": [],
   "source": []
  }
 ],
 "metadata": {
  "kernelspec": {
   "display_name": "Python 3 (ipykernel)",
   "language": "python",
   "name": "python3"
  },
  "language_info": {
   "codemirror_mode": {
    "name": "ipython",
    "version": 3
   },
   "file_extension": ".py",
   "mimetype": "text/x-python",
   "name": "python",
   "nbconvert_exporter": "python",
   "pygments_lexer": "ipython3",
   "version": "3.9.7"
  }
 },
 "nbformat": 4,
 "nbformat_minor": 5
}
