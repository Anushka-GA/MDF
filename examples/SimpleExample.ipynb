{
 "cells": [
  {
   "cell_type": "markdown",
   "id": "52efd62c",
   "metadata": {},
   "source": [
    "# Creating and executing MDF models\n",
    "\n",
    "This is a quick introduction to building MDF graphs and using them in different scenarios.\n",
    "\n",
    "1. **[Create a Model containing a Graph](#h1)**\n",
    "2. **[Generate a graph image from the model](#h2)**\n",
    "3. **[Execute the graph & print the output values](#h3)**\n",
    "4. **[Stateful Parameters in MDF](#h4)**\n",
    "5. **[Conditions in MDF](#h5)**\n",
    "\n",
    "\n",
    "## 1. Create a [Model](https://mdf.readthedocs.io/en/latest/api/Specification.html#model) containing a [Graph](https://mdf.readthedocs.io/en/latest/api/Specification.html#graph) <a class=\"anchor\" id=\"h1\"></a>\n",
    "\n",
    "A Model is the top-level construct in MDF, it contains Graph objects.\n"
   ]
  },
  {
   "cell_type": "code",
   "execution_count": 1,
   "id": "24aeb1e4",
   "metadata": {},
   "outputs": [],
   "source": [
    "from modeci_mdf.mdf import *\n",
    "\n",
    "# Create a model containing one graph\n",
    "mod = Model(id=\"AB\")\n",
    "mod_graph = Graph(id=\"ab_example\")\n",
    "\n",
    "#append the Graph object to the Model\n",
    "mod.graphs.append(mod_graph)\n"
   ]
  },
  {
   "cell_type": "markdown",
   "id": "0fa1b9ad",
   "metadata": {},
   "source": [
    "\n",
    "### 1.1 Create the first [Node](https://mdf.readthedocs.io/en/latest/api/Specification.html#node)\n",
    "A Node defines the computational flow of a Model. It receives and transmits information via [Input](https://mdf.readthedocs.io/en/latest/api/Specification.html#inputport) and [Output ports](https://mdf.readthedocs.io/en/latest/api/Specification.html#outputport), and can have internal [parameters](https://mdf.readthedocs.io/en/latest/api/Specification.html#parameter). \n",
    "\n",
    "The metadata does not influence the evaluation of the node, but is useful for adding information related to how the model element should be handled by different applications (e.g. for visualization) or defining the purpose/provenance of the model."
   ]
  },
  {
   "cell_type": "code",
   "execution_count": 2,
   "id": "a901b65d",
   "metadata": {},
   "outputs": [
    {
     "name": "stdout",
     "output_type": "stream",
     "text": [
      "ab_example:\n",
      "    nodes:\n",
      "        A:\n",
      "            metadata:\n",
      "                color: 0 .8 0\n",
      "            parameters:\n",
      "                level:\n",
      "                    value: 1.0\n",
      "            output_ports:\n",
      "                output:\n",
      "                    value: level\n",
      "\n"
     ]
    }
   ],
   "source": [
    "# Create a node\n",
    "a_node = Node(id=\"A\", metadata={\"color\": \"0 .8 0\"})\n",
    "\n",
    "# Add a parameter with a specific value\n",
    "a_node.parameters.append(Parameter(id=\"level\", value=1.0))\n",
    "\n",
    "# Add an output port\n",
    "a_node.output_ports.append(OutputPort(id=\"output\", value = \"level\"))\n",
    "\n",
    "# Add node to the graph\n",
    "mod_graph.nodes.append(a_node)\n",
    "\n",
    "# Print current structure as YAML\n",
    "print(mod_graph.to_yaml())"
   ]
  },
  {
   "cell_type": "markdown",
   "id": "3af3646d",
   "metadata": {},
   "source": [
    "### 1.2 Create another [Node](https://mdf.readthedocs.io/en/latest/api/Specification.html#node)"
   ]
  },
  {
   "cell_type": "code",
   "execution_count": 3,
   "id": "ab0018ae",
   "metadata": {},
   "outputs": [],
   "source": [
    "b_node = Node(id=\"B\", metadata={\"color\": \".8 0 0\"})\n",
    "mod_graph.nodes.append(b_node)\n",
    "\n",
    "# Add an input port: https://mdf.readthedocs.io/en/latest/api/Specification.html#inputport\n",
    "b_node.input_ports.append(InputPort(id=\"input\"))\n",
    "\n",
    "# Add some parameters : https://mdf.readthedocs.io/en/latest/api/Specification.html#parameter\n",
    "b_node.parameters.append(Parameter(id=\"slope\", value=1.2))\n",
    "b_node.parameters.append(Parameter(id=\"intercept\", value=3))\n",
    "\n",
    "\n",
    "# Add a parameter which used the internal parameter as well as the value from the input\n",
    "p1 = Parameter(\n",
    "    id=\"linear_func\",\n",
    "    value=\"input * slope + intercept\",\n",
    ")\n",
    "b_node.parameters.append(p1)\n",
    "\n",
    "# Add an output port : https://mdf.readthedocs.io/en/latest/api/Specification.html#outputport\n",
    "b_node.output_ports.append(OutputPort(id=\"output\", value=\"linear_func\"))\n"
   ]
  },
  {
   "cell_type": "markdown",
   "id": "35e243a6",
   "metadata": {},
   "source": [
    "### 1.3 Create an  [Edge](https://mdf.readthedocs.io/en/latest/api/Specification.html#edge) between the [Nodes](https://mdf.readthedocs.io/en/latest/api/Specification.html#node)\n",
    "Use the [simple_connect()](https://mdf.readthedocs.io/en/latest/api/_autosummary/modeci_mdf.utils.simple_connect.html?highlight=simple%20connect#modeci-mdf-utils-simple-connect) utility method to add an edge between the nodes."
   ]
  },
  {
   "cell_type": "code",
   "execution_count": 4,
   "id": "20b8a6b7",
   "metadata": {},
   "outputs": [
    {
     "name": "stdout",
     "output_type": "stream",
     "text": [
      "ab_example:\n",
      "    nodes:\n",
      "        A:\n",
      "            metadata:\n",
      "                color: 0 .8 0\n",
      "            parameters:\n",
      "                level:\n",
      "                    value: 1.0\n",
      "            output_ports:\n",
      "                output:\n",
      "                    value: level\n",
      "        B:\n",
      "            metadata:\n",
      "                color: .8 0 0\n",
      "            input_ports:\n",
      "                input: {}\n",
      "            parameters:\n",
      "                slope:\n",
      "                    value: 1.2\n",
      "                intercept:\n",
      "                    value: 3\n",
      "                linear_func:\n",
      "                    value: input * slope + intercept\n",
      "            output_ports:\n",
      "                output:\n",
      "                    value: linear_func\n",
      "    edges:\n",
      "        edge_A_B:\n",
      "            sender: A\n",
      "            receiver: B\n",
      "            sender_port: output\n",
      "            receiver_port: input\n",
      "\n"
     ]
    }
   ],
   "source": [
    "# This helper method just adds an edge connecting the first output port of \n",
    "# the pre node to the first input port of the post node\n",
    "from modeci_mdf.utils import simple_connect\n",
    "\n",
    "e1 = simple_connect(a_node, b_node, mod_graph)\n",
    "\n",
    "# Print the current structure\n",
    "print(mod_graph.to_yaml())\n"
   ]
  },
  {
   "cell_type": "markdown",
   "id": "2b8c8f85",
   "metadata": {},
   "source": [
    "### 1.4 Save the model to file\n",
    "\n",
    "The model can be saved to a file (serialized) in either JSON or YAML format."
   ]
  },
  {
   "cell_type": "code",
   "execution_count": 5,
   "id": "e50d9aab",
   "metadata": {},
   "outputs": [
    {
     "data": {
      "text/plain": [
       "'AB.yaml'"
      ]
     },
     "execution_count": 5,
     "metadata": {},
     "output_type": "execute_result"
    }
   ],
   "source": [
    "mod.to_json_file(\"AB.json\")\n",
    "mod.to_yaml_file(\"AB.yaml\")"
   ]
  },
  {
   "cell_type": "markdown",
   "id": "2948c73d",
   "metadata": {},
   "source": [
    "## 2. Generate a graph image from the model <a class=\"anchor\" id=\"h2\"></a>\n",
    "\n",
    "We will use the [to_graph_image](https://mdf.readthedocs.io/en/latest/api/_autosummary/modeci_mdf.mdf.Model.html?highlight=to%20graph%20image#modeci_mdf.mdf.Model.to_graph_image) method on the model to generate an image representing the structure of the graph.\n"
   ]
  },
  {
   "cell_type": "code",
   "execution_count": 6,
   "id": "69740bde",
   "metadata": {},
   "outputs": [
    {
     "name": "stdout",
     "output_type": "stream",
     "text": [
      "Converting MDF graph: ab_example to graphviz (level: 3, format: png)\n",
      "    Node: A\n",
      "Converting 0 .8 0 to hex color\n",
      "    Node: B\n",
      "Converting .8 0 0 to hex color\n",
      "    Edge: edge_A_B connects A to B\n",
      "Written graph image to: AB.png\n"
     ]
    },
    {
     "data": {
      "image/png": "[encoded data removed]",
      "text/plain": [
       "<IPython.core.display.Image object>"
      ]
     },
     "execution_count": 6,
     "metadata": {},
     "output_type": "execute_result"
    }
   ],
   "source": [
    "mod.to_graph_image(\n",
    "        engine=\"dot\",\n",
    "        output_format=\"png\",\n",
    "        view_on_render=False,\n",
    "        level=3,\n",
    "        filename_root=\"AB\",\n",
    "        is_horizontal=True\n",
    "    )\n",
    "\n",
    "from IPython.display import Image\n",
    "Image(filename=\"AB.png\")"
   ]
  },
  {
   "cell_type": "markdown",
   "id": "ed4ff05b",
   "metadata": {},
   "source": [
    "# 3. Execute the graph & print the output values <a class=\"anchor\" id=\"h3\"></a>\n",
    "\n",
    "The Graph is converted to an [EvaluableGraph](https://mdf.readthedocs.io/en/latest/api/_autosummary/modeci_mdf.execution_engine.EvaluableGraph.html#modeci_mdf.execution_engine.EvaluableGraph), which can be used to evaluate the current state of the graph's parameters. "
   ]
  },
  {
   "cell_type": "markdown",
   "id": "1ebabb89",
   "metadata": {},
   "source": [
    "### 3.1 Execute the graph with the current parameter values "
   ]
  },
  {
   "cell_type": "code",
   "execution_count": 7,
   "id": "543006ef",
   "metadata": {},
   "outputs": [
    {
     "name": "stdout",
     "output_type": "stream",
     "text": [
      "\n",
      "Init graph: ab_example\n",
      "Evaluating graph: ab_example, root nodes: ['A'], with array format numpy\n",
      "Output of A: 1\n",
      "Output of B: 4.2\n"
     ]
    }
   ],
   "source": [
    "from modeci_mdf.execution_engine import EvaluableGraph\n",
    "\n",
    "eg = EvaluableGraph(mod_graph, verbose=False)\n",
    "eg.evaluate()\n",
    "\n",
    "print('Output of A: %s'%eg.enodes[\"A\"].evaluable_outputs[\"output\"].curr_value)\n",
    "print('Output of B: %s'%eg.enodes[\"B\"].evaluable_outputs[\"output\"].curr_value)"
   ]
  },
  {
   "cell_type": "markdown",
   "id": "d3d3ef42",
   "metadata": {},
   "source": [
    "### 3.2 Change a value to a Numpy array & execute the graph again\n",
    "\n",
    "An important point about MDF is that the parameters etc. don't just have to be scalar/float values, but can be arrays, such as a Numpy array."
   ]
  },
  {
   "cell_type": "code",
   "execution_count": 8,
   "id": "e9142f37",
   "metadata": {},
   "outputs": [
    {
     "name": "stdout",
     "output_type": "stream",
     "text": [
      "Evaluating graph: ab_example, root nodes: ['A'], with array format numpy\n",
      "Output of A:\n",
      "[[1 2]\n",
      " [3 4]]\n",
      "Output of B:\n",
      "[[4.2 5.4]\n",
      " [6.6 7.8]]\n"
     ]
    }
   ],
   "source": [
    "import numpy as np \n",
    "#Convert the value of the parameter to a numpy array\n",
    "a_node.get_parameter('level').value = np.array([[1,2],[3,4]])\n",
    "\n",
    "eg.evaluate()\n",
    "\n",
    "print('Output of A:\\n%s'%eg.enodes[\"A\"].evaluable_outputs[\"output\"].curr_value)\n",
    "print('Output of B:\\n%s'%eg.enodes[\"B\"].evaluable_outputs[\"output\"].curr_value)"
   ]
  },
  {
   "cell_type": "markdown",
   "id": "08bfce4b",
   "metadata": {},
   "source": [
    "# 4. Stateful Parameters in MDF <a class=\"anchor\" id=\"h4\"></a>\n",
    "Stateful parameters are a special class of [Parameter](https://mdf.readthedocs.io/en/latest/api/Specification.html#parameter) whose value can change each time the model is executed."
   ]
  },
  {
   "cell_type": "markdown",
   "id": "c39f8035",
   "metadata": {},
   "source": [
    "### 4.1 Create a Node"
   ]
  },
  {
   "cell_type": "code",
   "execution_count": 9,
   "id": "df3a5e6c",
   "metadata": {},
   "outputs": [
    {
     "name": "stdout",
     "output_type": "stream",
     "text": [
      "state_example:\n",
      "    nodes:\n",
      "        A:\n",
      "            parameters:\n",
      "                increment:\n",
      "                    value: 1.0\n",
      "                count:\n",
      "                    value: count + increment\n",
      "            output_ports:\n",
      "                output:\n",
      "                    value: count\n",
      "\n"
     ]
    }
   ],
   "source": [
    "# Create a model \n",
    "mod = Model(id=\"States\")\n",
    "mod_graph = Graph(id=\"state_example\")\n",
    "mod.graphs.append(mod_graph)\n",
    "\n",
    "a_node = Node(id=\"A\")\n",
    "mod_graph.nodes.append(a_node)\n",
    "\n",
    "#https://mdf.readthedocs.io/en/latest/api/Specification.html#parameter\n",
    "#Add a stateless parameter - this is a parameter which will evaluate to the same value every execution of the node (for the same external inputs)\n",
    "a_node.parameters.append(Parameter(id=\"increment\", value=1.0))\n",
    "\n",
    "#Add a stateful parameter - this is a parameter whose value is influenced by a previous value of a parameter, possibly itself\n",
    "p1 = Parameter(\n",
    "    id=\"count\",\n",
    "    value=\"count + increment\",\n",
    ")\n",
    "a_node.parameters.append(p1)\n",
    "\n",
    "\n",
    "# Add an output port\n",
    "a_node.output_ports.append(OutputPort(id=\"output\", value=\"count\"))\n",
    "\n",
    "# Print the current structure\n",
    "print(mod_graph.to_yaml())\n",
    "\n"
   ]
  },
  {
   "cell_type": "markdown",
   "id": "4a72cd13",
   "metadata": {},
   "source": [
    "### 4.2. Generate a graph image from the model \n",
    "\n",
    "A graphical representation of the new node is created. Note the stateful parameter name is in **bold**. "
   ]
  },
  {
   "cell_type": "code",
   "execution_count": 10,
   "id": "22748de7",
   "metadata": {},
   "outputs": [
    {
     "name": "stdout",
     "output_type": "stream",
     "text": [
      "Converting MDF graph: state_example to graphviz (level: 3, format: png)\n",
      "    Node: A\n",
      "Written graph image to: states.png\n"
     ]
    },
    {
     "data": {
      "image/png": "[encoded data removed]",
      "text/plain": [
       "<IPython.core.display.Image object>"
      ]
     },
     "execution_count": 10,
     "metadata": {},
     "output_type": "execute_result"
    }
   ],
   "source": [
    "\n",
    "mod.to_graph_image(\n",
    "        engine=\"dot\",\n",
    "        output_format=\"png\",\n",
    "        view_on_render=False,\n",
    "        level=3,\n",
    "        filename_root=\"states\"\n",
    "    )\n",
    "\n",
    "from IPython.display import Image\n",
    "Image(filename=\"states.png\")\n"
   ]
  },
  {
   "cell_type": "markdown",
   "id": "b53faa47",
   "metadata": {},
   "source": [
    "### 4.3. Execute the graph & print the output values\n",
    "The Graph is converted into an [EvaluableGraph](https://mdf.readthedocs.io/en/latest/api/_autosummary/modeci_mdf.execution_engine.EvaluableGraph.html#modeci_mdf.execution_engine.EvaluableGraph),which can be used to evaluate the current state of the graph's parameters."
   ]
  },
  {
   "cell_type": "code",
   "execution_count": 11,
   "id": "16e13e4e",
   "metadata": {},
   "outputs": [
    {
     "name": "stdout",
     "output_type": "stream",
     "text": [
      "\n",
      "Init graph: state_example\n",
      "Evaluating graph: state_example, root nodes: ['A'], with array format numpy\n",
      "Output of A: 1\n"
     ]
    }
   ],
   "source": [
    "#Evaluating the graph once and printing out the output value\n",
    "from modeci_mdf.execution_engine import EvaluableGraph\n",
    "\n",
    "eg = EvaluableGraph(mod_graph, verbose=False)\n",
    "eg.evaluate()\n",
    "\n",
    "print('Output of A: %s'%eg.enodes[\"A\"].evaluable_outputs[\"output\"].curr_value)"
   ]
  },
  {
   "cell_type": "code",
   "execution_count": 12,
   "id": "08bee687",
   "metadata": {},
   "outputs": [
    {
     "name": "stdout",
     "output_type": "stream",
     "text": [
      "===== Evaluating at t = 0  ======\n",
      "Evaluating graph: state_example, root nodes: ['A'], with array format <built-in function format>\n",
      "Output of A: 2\n",
      "===== Evaluating at t = 1  ======\n",
      "Evaluating graph: state_example, root nodes: ['A'], with array format numpy\n",
      "Output of A: 3\n",
      "===== Evaluating at t = 2  ======\n",
      "Evaluating graph: state_example, root nodes: ['A'], with array format numpy\n",
      "Output of A: 4\n",
      "===== Evaluating at t = 3  ======\n",
      "Evaluating graph: state_example, root nodes: ['A'], with array format numpy\n",
      "Output of A: 5\n",
      "===== Evaluating at t = 4  ======\n",
      "Evaluating graph: state_example, root nodes: ['A'], with array format numpy\n",
      "Output of A: 6\n"
     ]
    }
   ],
   "source": [
    "#Evaluating the Graph 5 more times using a time series & changing time increment by 1 \n",
    "# (so count is 6 at the end, as it already has value 1)\n",
    "dt = 1\n",
    "duration = 5\n",
    "t = 0\n",
    "times = []\n",
    "while t < duration:\n",
    "    times.append(t)\n",
    "    print(\"===== Evaluating at t = %s  ======\" % (t))\n",
    "    if t == 0:\n",
    "        eg.evaluate(array_format=format)\n",
    "    else:\n",
    "        eg.evaluate(time_increment=dt)\n",
    "    #notice that the output increments by 1 because of the stateful parameter setup on the node    \n",
    "    print('Output of A: %s'%eg.enodes[\"A\"].evaluable_outputs[\"output\"].curr_value)    \n",
    "    t += dt\n"
   ]
  },
  {
   "cell_type": "markdown",
   "id": "18384af3",
   "metadata": {},
   "source": [
    "# 5. Conditions in MDF <a class=\"anchor\" id=\"h5\"></a>\n",
    "In MDF, Conditions are a set of descriptors which specify & determine how many times individual [Nodes](https://mdf.readthedocs.io/en/latest/api/Specification.html#node) are allowed to execute.\n",
    "To learn more about Conditions see [here](https://github.com/ModECI/MDF/blob/main/examples/MDF/conditions/README.md) and also [Graph-Scheduler](https://kmantel.github.io/graph-scheduler/Condition.html)"
   ]
  },
  {
   "cell_type": "markdown",
   "id": "654844a2",
   "metadata": {},
   "source": [
    "### 5.1 Create another [Node](https://mdf.readthedocs.io/en/latest/api/Specification.html#node)"
   ]
  },
  {
   "cell_type": "code",
   "execution_count": 13,
   "id": "acda2957",
   "metadata": {},
   "outputs": [
    {
     "name": "stdout",
     "output_type": "stream",
     "text": [
      "conditions_example:\n",
      "    nodes:\n",
      "        A:\n",
      "            parameters:\n",
      "                increment:\n",
      "                    value: 1.0\n",
      "                count:\n",
      "                    value: count + increment\n",
      "            output_ports:\n",
      "                output:\n",
      "                    value: count\n",
      "        B:\n",
      "            parameters:\n",
      "                param_B:\n",
      "                    value: param_B + 1\n",
      "            output_ports:\n",
      "                output:\n",
      "                    value: param_B\n",
      "\n"
     ]
    }
   ],
   "source": [
    "#import the necessary package to use Conditions in MDF\n",
    "import graph_scheduler\n",
    "\n",
    "mod_graph.id = 'conditions_example'\n",
    "\n",
    "b_node = Node(id=\"B\")\n",
    "mod_graph.nodes.append(b_node)\n",
    "\n",
    "# Add a parameters\n",
    "b_node.parameters.append(Parameter(id=\"param_B\", value=\"param_B + 1\"))\n",
    "\n",
    "# Add an output port\n",
    "b_node.output_ports.append(OutputPort(id=\"output\", value=\"param_B\"))\n",
    "\n",
    "# Print current structure as YAML\n",
    "print(mod_graph.to_yaml())"
   ]
  },
  {
   "cell_type": "markdown",
   "id": "cc3a0b44",
   "metadata": {},
   "source": [
    "### 5.2 Add Conditions \n",
    "To Node B, add a [Pre-Specified](https://kmantel.github.io/graph-scheduler/Condition.html#list-of-pre-specified-conditions), Node-Based Condition, [EveryNCalls](https://kmantel.github.io/graph-scheduler/Condition.html?highlight=everyncalls#graph_scheduler.condition.EveryNCalls)"
   ]
  },
  {
   "cell_type": "code",
   "execution_count": 14,
   "id": "6ed17fc6",
   "metadata": {},
   "outputs": [],
   "source": [
    "#This condition means that A is always executed\n",
    "cond_a = Condition(type=\"Always\")\n",
    "\n",
    "#This condition means that B will execute when A has run 3 times\n",
    "cond_b = Condition(type=\"EveryNCalls\", dependencies=a_node.id, n=3)  \n"
   ]
  },
  {
   "cell_type": "code",
   "execution_count": 15,
   "id": "7933f4cd",
   "metadata": {},
   "outputs": [
    {
     "name": "stdout",
     "output_type": "stream",
     "text": [
      "conditions_example:\n",
      "    nodes:\n",
      "        A:\n",
      "            parameters:\n",
      "                increment:\n",
      "                    value: 1.0\n",
      "                count:\n",
      "                    value: count + increment\n",
      "            output_ports:\n",
      "                output:\n",
      "                    value: count\n",
      "        B:\n",
      "            parameters:\n",
      "                param_B:\n",
      "                    value: param_B + 1\n",
      "            output_ports:\n",
      "                output:\n",
      "                    value: param_B\n",
      "    conditions:\n",
      "        node_specific:\n",
      "            A:\n",
      "                type: Always\n",
      "                kwargs: {}\n",
      "            B:\n",
      "                type: EveryNCalls\n",
      "                kwargs:\n",
      "                    dependencies: A\n",
      "                    n: 3\n",
      "\n"
     ]
    }
   ],
   "source": [
    "#add the conditions to the Graph\n",
    "mod_graph.conditions = ConditionSet(\n",
    "    node_specific={a_node.id: cond_a, b_node.id: cond_b},\n",
    ")\n",
    "\n",
    "# Print the current structure\n",
    "print(mod_graph.to_yaml())"
   ]
  },
  {
   "cell_type": "markdown",
   "id": "d2f1db72",
   "metadata": {},
   "source": [
    "### 5.3. Generate a graph image from the model "
   ]
  },
  {
   "cell_type": "code",
   "execution_count": 16,
   "id": "1a3b2590",
   "metadata": {},
   "outputs": [
    {
     "name": "stdout",
     "output_type": "stream",
     "text": [
      "Converting MDF graph: conditions_example to graphviz (level: 2, format: png)\n",
      "    Node: A\n",
      "    Node: B\n",
      "Written graph image to: conditions.png\n"
     ]
    },
    {
     "data": {
      "image/png": "[encoded data removed]",
      "text/plain": [
       "<IPython.core.display.Image object>"
      ]
     },
     "execution_count": 16,
     "metadata": {},
     "output_type": "execute_result"
    }
   ],
   "source": [
    "mod.to_graph_image(\n",
    "        engine=\"dot\",\n",
    "        output_format=\"png\",\n",
    "        view_on_render=False,\n",
    "        level=2,\n",
    "        filename_root=\"conditions\"\n",
    "    )\n",
    "\n",
    "from IPython.display import Image\n",
    "Image(filename=\"conditions.png\")"
   ]
  },
  {
   "cell_type": "markdown",
   "id": "722471db",
   "metadata": {},
   "source": [
    "### 5.4 Execute the Graph\n",
    "The Graph is converted into an [EvaluableGraph](https://mdf.readthedocs.io/en/latest/api/_autosummary/modeci_mdf.execution_engine.EvaluableGraph.html#modeci_mdf.execution_engine.EvaluableGraph),which can be used to evaluate the current state of the graph's parameters. \n"
   ]
  },
  {
   "cell_type": "code",
   "execution_count": 17,
   "id": "2baf7243",
   "metadata": {},
   "outputs": [
    {
     "name": "stdout",
     "output_type": "stream",
     "text": [
      "\n",
      "Init graph: conditions_example\n",
      "Evaluating graph: conditions_example, root nodes: ['A', 'B'], with array format numpy\n",
      "Output of A: 3\n",
      "Output of B: 1\n"
     ]
    }
   ],
   "source": [
    "\n",
    "from modeci_mdf.execution_engine import EvaluableGraph\n",
    "\n",
    "eg = EvaluableGraph(mod_graph, verbose=False)\n",
    "#Calling the evaluate method will print out the order of the execution of Nodes per the set conditions\n",
    "#Expected to be ('A','A','A','B')\n",
    "eg.evaluate()\n",
    "\n",
    "#The Output of A expected to be 3 as it executes 3 times\n",
    "print('Output of A: %s'%eg.enodes[\"A\"].evaluable_outputs[\"output\"].curr_value) \n",
    "\n",
    "#The Output of B expected to be 1 as it executes only once\n",
    "print('Output of B: %s'%eg.enodes[\"B\"].evaluable_outputs[\"output\"].curr_value) "
   ]
  },
  {
   "cell_type": "code",
   "execution_count": null,
   "id": "145d9c13",
   "metadata": {},
   "outputs": [],
   "source": []
  }
 ],
 "metadata": {
  "kernelspec": {
   "display_name": "Python 3 (ipykernel)",
   "language": "python",
   "name": "python3"
  },
  "language_info": {
   "codemirror_mode": {
    "name": "ipython",
    "version": 3
   },
   "file_extension": ".py",
   "mimetype": "text/x-python",
   "name": "python",
   "nbconvert_exporter": "python",
   "pygments_lexer": "ipython3",
   "version": "3.9.12"
  }
 },
 "nbformat": 4,
 "nbformat_minor": 5
}
